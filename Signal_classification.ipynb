{
  "nbformat": 4,
  "nbformat_minor": 0,
  "metadata": {
    "colab": {
      "name": "Modulation_Classification.ipynb",
      "provenance": [],
      "collapsed_sections": []
    },
    "language_info": {
      "codemirror_mode": {
        "name": "ipython",
        "version": 3
      },
      "file_extension": ".py",
      "mimetype": "text/x-python",
      "name": "python",
      "nbconvert_exporter": "python",
      "pygments_lexer": "ipython3",
      "version": "3.6.4"
    },
    "kernelspec": {
      "name": "python3",
      "display_name": "Python 3"
    },
    "accelerator": "GPU"
  },
  "cells": [
    {
      "cell_type": "code",
      "metadata": {
        "id": "FNYr1At6z_QP"
      },
      "source": [
        "from sklearn.preprocessing import LabelBinarizer as LB\n",
        "from sklearn.preprocessing import normalize \n",
        "from sklearn.metrics import confusion_matrix\n",
        "from sklearn.metrics import accuracy_score\n",
        "\n",
        "from keras.layers.convolutional import Conv2D, ZeroPadding2D\n",
        "from keras.layers.core import Reshape, Flatten, Dropout\n",
        "from keras.callbacks import EarlyStopping\n",
        "from keras.models import Sequential\n",
        "from keras.models import load_model\n",
        "from keras.layers import Dense , BatchNormalization, Activation\n",
        "from keras import metrics\n",
        "\n",
        "from pandas import DataFrame as df\n",
        "\n",
        "import matplotlib.pyplot as plt\n",
        "import seaborn as sns\n",
        "\n",
        "import tensorflow as tf\n",
        "import numpy as np\n",
        "\n",
        "import tarfile\n",
        "import pickle\n",
        "import random\n",
        "import keras\n",
        "import sys\n",
        "import gc"
      ],
      "execution_count": null,
      "outputs": []
    },
    {
      "cell_type": "markdown",
      "metadata": {
        "id": "ifS74-IPkGZi"
      },
      "source": [
        "Get data"
      ]
    },
    {
      "cell_type": "code",
      "metadata": {
        "id": "6wEh_j9A-36T",
        "colab": {
          "base_uri": "https://localhost:8080/"
        },
        "outputId": "a3917b2a-8ec8-4c2f-83d5-868fb814d974"
      },
      "source": [
        "!wget http://opendata.deepsig.io/datasets/2016.10/RML2016.10b.tar.bz2\n",
        "!tar jxf RML2016.10b.tar.bz2"
      ],
      "execution_count": null,
      "outputs": [
        {
          "output_type": "stream",
          "text": [
            "--2021-01-14 13:38:54--  http://opendata.deepsig.io/datasets/2016.10/RML2016.10b.tar.bz2\n",
            "Resolving opendata.deepsig.io (opendata.deepsig.io)... 52.14.91.165\n",
            "Connecting to opendata.deepsig.io (opendata.deepsig.io)|52.14.91.165|:80... connected.\n",
            "HTTP request sent, awaiting response... 200 OK\n",
            "Length: 1245608913 (1.2G) [application/x-bzip2]\n",
            "Saving to: ‘RML2016.10b.tar.bz2’\n",
            "\n",
            "RML2016.10b.tar.bz2 100%[===================>]   1.16G  15.2MB/s    in 1m 49s  \n",
            "\n",
            "2021-01-14 13:40:43 (10.9 MB/s) - ‘RML2016.10b.tar.bz2’ saved [1245608913/1245608913]\n",
            "\n"
          ],
          "name": "stdout"
        }
      ]
    },
    {
      "cell_type": "code",
      "metadata": {
        "id": "aAUjInDf0M4c"
      },
      "source": [
        "file = open(\"RML2016.10b.dat\",'rb')\n",
        "Xd = pickle.load(file, encoding = 'bytes')\n",
        "snrs, mods = map(lambda j: sorted(list(set(map(lambda x: x[j], Xd.keys())))), [1,0])\n",
        "X = [] \n",
        "lbl = []\n",
        "for mod in mods:\n",
        "    for snr in snrs:\n",
        "        X.append(Xd[(mod,snr)])\n",
        "        for i in range(Xd[(mod,snr)].shape[0]):  lbl.append((mod,snr))\n",
        "X = np.vstack(X)\n",
        "file.close()"
      ],
      "execution_count": null,
      "outputs": []
    },
    {
      "cell_type": "markdown",
      "metadata": {
        "id": "0Q3EMKoJ-4v6"
      },
      "source": [
        "## Create Features Space"
      ]
    },
    {
      "cell_type": "code",
      "metadata": {
        "id": "JygL40Bo_iNV"
      },
      "source": [
        "features = {}"
      ],
      "execution_count": null,
      "outputs": []
    },
    {
      "cell_type": "code",
      "metadata": {
        "id": "L0hE1Y_PP-QQ"
      },
      "source": [
        "features['raw'] = X[:,0], X[:,1]"
      ],
      "execution_count": null,
      "outputs": []
    },
    {
      "cell_type": "code",
      "metadata": {
        "id": "CiGPAY7s_OOe"
      },
      "source": [
        "features['derivative'] = normalize(np.gradient(X[:,0], axis = 1)), normalize(np.gradient(X[:,1], axis = 1))"
      ],
      "execution_count": null,
      "outputs": []
    },
    {
      "cell_type": "code",
      "metadata": {
        "id": "0Jc15J5r_OfX"
      },
      "source": [
        "features['integral'] = normalize(np.cumsum(X[:,0], axis = 1)), normalize(np.cumsum(X[:,1], axis = 1))"
      ],
      "execution_count": null,
      "outputs": []
    },
    {
      "cell_type": "markdown",
      "metadata": {
        "id": "OvGETT-I_jAQ"
      },
      "source": [
        "**All Togetheer Feature Space**"
      ]
    },
    {
      "cell_type": "code",
      "metadata": {
        "id": "WDuvdmZo4CDR"
      },
      "source": [
        "def extract_features(*arguments):\n",
        "    \n",
        "    desired = ()            \n",
        "    for arg in arguments:\n",
        "        desired += features[arg]\n",
        "    \n",
        "    return np.stack(desired, axis = 1)"
      ],
      "execution_count": null,
      "outputs": []
    },
    {
      "cell_type": "markdown",
      "metadata": {
        "id": "wfnBc-rxCyQZ"
      },
      "source": [
        "## Train and Test Data Split"
      ]
    },
    {
      "cell_type": "code",
      "metadata": {
        "id": "VYkv4lQuDR2F"
      },
      "source": [
        "data = extract_features('raw')\n",
        "labels = np.array(lbl)"
      ],
      "execution_count": 75,
      "outputs": []
    },
    {
      "cell_type": "code",
      "metadata": {
        "id": "e-oc9F5TKs4-"
      },
      "source": [
        "in_shape = data[0].shape\n",
        "out_shape = tuple([1]) + in_shape"
      ],
      "execution_count": 76,
      "outputs": []
    },
    {
      "cell_type": "code",
      "metadata": {
        "colab": {
          "base_uri": "https://localhost:8080/"
        },
        "id": "_55-QcyklyDE",
        "outputId": "37a3de63-cc9c-4d51-f3bf-65805d465d77"
      },
      "source": [
        "in_shape"
      ],
      "execution_count": 77,
      "outputs": [
        {
          "output_type": "execute_result",
          "data": {
            "text/plain": [
              "(2, 128)"
            ]
          },
          "metadata": {
            "tags": []
          },
          "execution_count": 77
        }
      ]
    },
    {
      "cell_type": "code",
      "metadata": {
        "id": "qtUPPE4KKs45"
      },
      "source": [
        "np.random.seed(10)\n",
        "\n",
        "n_examples = labels.shape[0]\n",
        "\n",
        "r = np.random.choice(range(n_examples), n_examples, replace = False)\n",
        "\n",
        "train_examples = r[:n_examples//2]\n",
        "test_examples =  r[n_examples//2:]"
      ],
      "execution_count": 78,
      "outputs": []
    },
    {
      "cell_type": "code",
      "metadata": {
        "id": "V-gyBJhwKs47"
      },
      "source": [
        "X_train = data[train_examples]\n",
        "X_test = data[test_examples]\n",
        "\n",
        "y_train = LB().fit_transform(labels[train_examples][:,0])\n",
        "y_test = LB().fit_transform(labels[test_examples][:,0])\n",
        "\n",
        "snr_train = labels[train_examples][:,1].astype(int)\n",
        "snr_test = labels[test_examples][:,1].astype(int)"
      ],
      "execution_count": 79,
      "outputs": []
    },
    {
      "cell_type": "markdown",
      "metadata": {
        "id": "A7WC0d9sDyg-"
      },
      "source": [
        "## ABRO Model for Convolution Connected Neural Networks"
      ]
    },
    {
      "cell_type": "code",
      "metadata": {
        "id": "QA2WXdzDS52C"
      },
      "source": [
        "from keras import backend as K\r\n",
        "\r\n",
        "def recall_m(y_true, y_pred):\r\n",
        "    true_positives = K.sum(K.round(K.clip(y_true * y_pred, 0, 1)))\r\n",
        "    possible_positives = K.sum(K.round(K.clip(y_true, 0, 1)))\r\n",
        "    recall = true_positives / (possible_positives + K.epsilon())\r\n",
        "    return recall\r\n",
        "\r\n",
        "def precision_m(y_true, y_pred):\r\n",
        "    true_positives = K.sum(K.round(K.clip(y_true * y_pred, 0, 1)))\r\n",
        "    predicted_positives = K.sum(K.round(K.clip(y_pred, 0, 1)))\r\n",
        "    precision = true_positives / (predicted_positives + K.epsilon())\r\n",
        "    return precision\r\n",
        "\r\n",
        "def f1_m(y_true, y_pred):\r\n",
        "    precision = precision_m(y_true, y_pred)\r\n",
        "    recall = recall_m(y_true, y_pred)\r\n",
        "    return 2*((precision*recall)/(precision+recall+K.epsilon()))"
      ],
      "execution_count": 80,
      "outputs": []
    },
    {
      "cell_type": "code",
      "metadata": {
        "id": "2Y8zIXRfZEX2"
      },
      "source": [
        "def modelCNN(btch_norm = False):\n",
        "  dr = 0.5\n",
        "  model = Sequential()\n",
        "  model.add(Reshape(out_shape, input_shape = in_shape))\n",
        "  model.add(ZeroPadding2D((0, 2), data_format = 'channels_first'))\n",
        "  model.add(Conv2D(256, (1, 3), padding = 'valid', name=\"conv1\", kernel_initializer='glorot_uniform', data_format=\"channels_first\"))\n",
        "\n",
        "  if (btch_norm):\n",
        "    model.add(BatchNormalization())\n",
        "  model.add(Activation(\"relu\"))\n",
        "  model.add(Dropout(dr))\n",
        "  model.add(ZeroPadding2D((0,2), data_format = 'channels_first'))\n",
        "  model.add(Conv2D(80, (2, 3), activation=\"relu\", name=\"conv3\", padding=\"valid\", kernel_initializer=\"glorot_uniform\", data_format=\"channels_first\"))\n",
        "\n",
        "  if (btch_norm):\n",
        "    model.add(BatchNormalization())\n",
        "  model.add(Activation(\"relu\"))\n",
        "  model.add(Dropout(dr))\n",
        "  model.add(Flatten())   \n",
        "  model.add(Dense(256, activation=\"relu\", name=\"dense1\", kernel_initializer=\"he_normal\"))\n",
        "\n",
        "  if (btch_norm):\n",
        "    model.add(BatchNormalization())\n",
        "  model.add(Activation(\"relu\"))\n",
        "  model.add(Dropout(dr))\n",
        "  model.add(Dense(10, name=\"dense3\", kernel_initializer=\"he_normal\", activation = 'softmax'))\n",
        "  model.add(Reshape([len(mods)]))\n",
        "  model.compile(loss='categorical_crossentropy', optimizer='adam', metrics = ['accuracy'])\n",
        "  model.summary()\n",
        "  return model"
      ],
      "execution_count": 81,
      "outputs": []
    },
    {
      "cell_type": "code",
      "metadata": {
        "id": "KJnFGjvG8CS2",
        "colab": {
          "base_uri": "https://localhost:8080/"
        },
        "outputId": "05a7f2f7-4dbf-48f5-aff1-88506b3d499b"
      },
      "source": [
        "model = modelCNN()\r\n",
        "history = model.fit(X_train, y_train, epochs = 80, batch_size = 1024, validation_split = 0.05, callbacks=[EarlyStopping(patience = 15, restore_best_weights = True)])"
      ],
      "execution_count": 82,
      "outputs": [
        {
          "output_type": "stream",
          "text": [
            "Model: \"sequential_10\"\n",
            "_________________________________________________________________\n",
            "Layer (type)                 Output Shape              Param #   \n",
            "=================================================================\n",
            "reshape_20 (Reshape)         (None, 1, 2, 128)         0         \n",
            "_________________________________________________________________\n",
            "zero_padding2d_20 (ZeroPaddi (None, 1, 2, 132)         0         \n",
            "_________________________________________________________________\n",
            "conv1 (Conv2D)               (None, 256, 2, 130)       1024      \n",
            "_________________________________________________________________\n",
            "activation_30 (Activation)   (None, 256, 2, 130)       0         \n",
            "_________________________________________________________________\n",
            "dropout_30 (Dropout)         (None, 256, 2, 130)       0         \n",
            "_________________________________________________________________\n",
            "zero_padding2d_21 (ZeroPaddi (None, 256, 2, 134)       0         \n",
            "_________________________________________________________________\n",
            "conv3 (Conv2D)               (None, 80, 1, 132)        122960    \n",
            "_________________________________________________________________\n",
            "activation_31 (Activation)   (None, 80, 1, 132)        0         \n",
            "_________________________________________________________________\n",
            "dropout_31 (Dropout)         (None, 80, 1, 132)        0         \n",
            "_________________________________________________________________\n",
            "flatten_10 (Flatten)         (None, 10560)             0         \n",
            "_________________________________________________________________\n",
            "dense1 (Dense)               (None, 256)               2703616   \n",
            "_________________________________________________________________\n",
            "activation_32 (Activation)   (None, 256)               0         \n",
            "_________________________________________________________________\n",
            "dropout_32 (Dropout)         (None, 256)               0         \n",
            "_________________________________________________________________\n",
            "dense3 (Dense)               (None, 10)                2570      \n",
            "_________________________________________________________________\n",
            "reshape_21 (Reshape)         (None, 10)                0         \n",
            "=================================================================\n",
            "Total params: 2,830,170\n",
            "Trainable params: 2,830,170\n",
            "Non-trainable params: 0\n",
            "_________________________________________________________________\n",
            "Epoch 1/80\n",
            "557/557 [==============================] - 31s 55ms/step - loss: 2.0620 - accuracy: 0.2128 - val_loss: 1.7315 - val_accuracy: 0.3338\n",
            "Epoch 2/80\n",
            "557/557 [==============================] - 30s 55ms/step - loss: 1.7466 - accuracy: 0.3237 - val_loss: 1.6328 - val_accuracy: 0.3751\n",
            "Epoch 3/80\n",
            "557/557 [==============================] - 30s 55ms/step - loss: 1.6822 - accuracy: 0.3498 - val_loss: 1.5988 - val_accuracy: 0.3842\n",
            "Epoch 4/80\n",
            "557/557 [==============================] - 30s 55ms/step - loss: 1.6517 - accuracy: 0.3598 - val_loss: 1.5737 - val_accuracy: 0.3969\n",
            "Epoch 5/80\n",
            "557/557 [==============================] - 30s 55ms/step - loss: 1.6267 - accuracy: 0.3692 - val_loss: 1.5639 - val_accuracy: 0.3978\n",
            "Epoch 6/80\n",
            "557/557 [==============================] - 30s 55ms/step - loss: 1.6128 - accuracy: 0.3736 - val_loss: 1.5418 - val_accuracy: 0.4043\n",
            "Epoch 7/80\n",
            "557/557 [==============================] - 30s 55ms/step - loss: 1.6008 - accuracy: 0.3776 - val_loss: 1.5305 - val_accuracy: 0.4079\n",
            "Epoch 8/80\n",
            "557/557 [==============================] - 30s 55ms/step - loss: 1.5890 - accuracy: 0.3817 - val_loss: 1.5270 - val_accuracy: 0.4116\n",
            "Epoch 9/80\n",
            "557/557 [==============================] - 30s 54ms/step - loss: 1.5834 - accuracy: 0.3842 - val_loss: 1.5146 - val_accuracy: 0.4149\n",
            "Epoch 10/80\n",
            "557/557 [==============================] - 30s 55ms/step - loss: 1.5772 - accuracy: 0.3857 - val_loss: 1.5130 - val_accuracy: 0.4090\n",
            "Epoch 11/80\n",
            "557/557 [==============================] - 30s 55ms/step - loss: 1.5677 - accuracy: 0.3897 - val_loss: 1.5063 - val_accuracy: 0.4168\n",
            "Epoch 12/80\n",
            "557/557 [==============================] - 30s 55ms/step - loss: 1.5655 - accuracy: 0.3910 - val_loss: 1.5014 - val_accuracy: 0.4202\n",
            "Epoch 13/80\n",
            "557/557 [==============================] - 30s 55ms/step - loss: 1.5578 - accuracy: 0.3936 - val_loss: 1.5035 - val_accuracy: 0.4170\n",
            "Epoch 14/80\n",
            "557/557 [==============================] - 30s 55ms/step - loss: 1.5537 - accuracy: 0.3946 - val_loss: 1.4947 - val_accuracy: 0.4230\n",
            "Epoch 15/80\n",
            "557/557 [==============================] - 30s 55ms/step - loss: 1.5494 - accuracy: 0.3968 - val_loss: 1.4943 - val_accuracy: 0.4244\n",
            "Epoch 16/80\n",
            "557/557 [==============================] - 30s 55ms/step - loss: 1.5474 - accuracy: 0.3969 - val_loss: 1.4899 - val_accuracy: 0.4230\n",
            "Epoch 17/80\n",
            "557/557 [==============================] - 30s 55ms/step - loss: 1.5462 - accuracy: 0.3978 - val_loss: 1.4873 - val_accuracy: 0.4165\n",
            "Epoch 18/80\n",
            "557/557 [==============================] - 31s 55ms/step - loss: 1.5407 - accuracy: 0.3991 - val_loss: 1.4897 - val_accuracy: 0.4193\n",
            "Epoch 19/80\n",
            "557/557 [==============================] - 30s 55ms/step - loss: 1.5393 - accuracy: 0.4016 - val_loss: 1.4868 - val_accuracy: 0.4233\n",
            "Epoch 20/80\n",
            "557/557 [==============================] - 30s 55ms/step - loss: 1.5334 - accuracy: 0.4019 - val_loss: 1.4815 - val_accuracy: 0.4242\n",
            "Epoch 21/80\n",
            "557/557 [==============================] - 30s 55ms/step - loss: 1.5321 - accuracy: 0.4035 - val_loss: 1.4845 - val_accuracy: 0.4240\n",
            "Epoch 22/80\n",
            "557/557 [==============================] - 31s 55ms/step - loss: 1.5289 - accuracy: 0.4042 - val_loss: 1.4801 - val_accuracy: 0.4261\n",
            "Epoch 23/80\n",
            "557/557 [==============================] - 31s 55ms/step - loss: 1.5300 - accuracy: 0.4039 - val_loss: 1.4808 - val_accuracy: 0.4259\n",
            "Epoch 24/80\n",
            "557/557 [==============================] - 30s 55ms/step - loss: 1.5262 - accuracy: 0.4064 - val_loss: 1.4769 - val_accuracy: 0.4293\n",
            "Epoch 25/80\n",
            "557/557 [==============================] - 30s 55ms/step - loss: 1.5253 - accuracy: 0.4073 - val_loss: 1.4761 - val_accuracy: 0.4276\n",
            "Epoch 26/80\n",
            "557/557 [==============================] - 30s 55ms/step - loss: 1.5210 - accuracy: 0.4080 - val_loss: 1.4733 - val_accuracy: 0.4281\n",
            "Epoch 27/80\n",
            "557/557 [==============================] - 31s 55ms/step - loss: 1.5209 - accuracy: 0.4073 - val_loss: 1.4789 - val_accuracy: 0.4234\n",
            "Epoch 28/80\n",
            "557/557 [==============================] - 30s 55ms/step - loss: 1.5170 - accuracy: 0.4085 - val_loss: 1.4834 - val_accuracy: 0.4222\n",
            "Epoch 29/80\n",
            "557/557 [==============================] - 30s 55ms/step - loss: 1.5167 - accuracy: 0.4104 - val_loss: 1.4667 - val_accuracy: 0.4313\n",
            "Epoch 30/80\n",
            "557/557 [==============================] - 30s 55ms/step - loss: 1.5131 - accuracy: 0.4112 - val_loss: 1.4696 - val_accuracy: 0.4295\n",
            "Epoch 31/80\n",
            "557/557 [==============================] - 30s 55ms/step - loss: 1.5143 - accuracy: 0.4103 - val_loss: 1.4694 - val_accuracy: 0.4290\n",
            "Epoch 32/80\n",
            "557/557 [==============================] - 30s 55ms/step - loss: 1.5094 - accuracy: 0.4131 - val_loss: 1.4719 - val_accuracy: 0.4243\n",
            "Epoch 33/80\n",
            "557/557 [==============================] - 30s 55ms/step - loss: 1.5084 - accuracy: 0.4134 - val_loss: 1.4691 - val_accuracy: 0.4307\n",
            "Epoch 34/80\n",
            "557/557 [==============================] - 31s 55ms/step - loss: 1.5069 - accuracy: 0.4132 - val_loss: 1.4729 - val_accuracy: 0.4290\n",
            "Epoch 35/80\n",
            "557/557 [==============================] - 30s 55ms/step - loss: 1.5075 - accuracy: 0.4142 - val_loss: 1.4704 - val_accuracy: 0.4295\n",
            "Epoch 36/80\n",
            "557/557 [==============================] - 30s 55ms/step - loss: 1.5043 - accuracy: 0.4153 - val_loss: 1.4638 - val_accuracy: 0.4317\n",
            "Epoch 37/80\n",
            "557/557 [==============================] - 31s 55ms/step - loss: 1.5030 - accuracy: 0.4152 - val_loss: 1.4668 - val_accuracy: 0.4293\n",
            "Epoch 38/80\n",
            "557/557 [==============================] - 30s 55ms/step - loss: 1.5014 - accuracy: 0.4168 - val_loss: 1.4685 - val_accuracy: 0.4291\n",
            "Epoch 39/80\n",
            "557/557 [==============================] - 30s 55ms/step - loss: 1.4998 - accuracy: 0.4164 - val_loss: 1.4686 - val_accuracy: 0.4274\n",
            "Epoch 40/80\n",
            "557/557 [==============================] - 30s 55ms/step - loss: 1.4989 - accuracy: 0.4178 - val_loss: 1.4711 - val_accuracy: 0.4272\n",
            "Epoch 41/80\n",
            "557/557 [==============================] - 30s 55ms/step - loss: 1.4980 - accuracy: 0.4175 - val_loss: 1.4652 - val_accuracy: 0.4297\n",
            "Epoch 42/80\n",
            "557/557 [==============================] - 30s 55ms/step - loss: 1.4958 - accuracy: 0.4179 - val_loss: 1.4665 - val_accuracy: 0.4279\n",
            "Epoch 43/80\n",
            "557/557 [==============================] - 31s 55ms/step - loss: 1.4950 - accuracy: 0.4197 - val_loss: 1.4684 - val_accuracy: 0.4300\n",
            "Epoch 44/80\n",
            "557/557 [==============================] - 31s 55ms/step - loss: 1.4946 - accuracy: 0.4190 - val_loss: 1.4648 - val_accuracy: 0.4313\n",
            "Epoch 45/80\n",
            "557/557 [==============================] - 31s 55ms/step - loss: 1.4907 - accuracy: 0.4213 - val_loss: 1.4636 - val_accuracy: 0.4296\n",
            "Epoch 46/80\n",
            "557/557 [==============================] - 31s 55ms/step - loss: 1.4924 - accuracy: 0.4198 - val_loss: 1.4598 - val_accuracy: 0.4318\n",
            "Epoch 47/80\n",
            "557/557 [==============================] - 31s 55ms/step - loss: 1.4896 - accuracy: 0.4217 - val_loss: 1.4668 - val_accuracy: 0.4304\n",
            "Epoch 48/80\n",
            "557/557 [==============================] - 31s 55ms/step - loss: 1.4880 - accuracy: 0.4224 - val_loss: 1.4615 - val_accuracy: 0.4281\n",
            "Epoch 49/80\n",
            "557/557 [==============================] - 31s 56ms/step - loss: 1.4872 - accuracy: 0.4231 - val_loss: 1.4650 - val_accuracy: 0.4310\n",
            "Epoch 50/80\n",
            "557/557 [==============================] - 31s 55ms/step - loss: 1.4880 - accuracy: 0.4219 - val_loss: 1.4645 - val_accuracy: 0.4315\n",
            "Epoch 51/80\n",
            "557/557 [==============================] - 31s 55ms/step - loss: 1.4862 - accuracy: 0.4242 - val_loss: 1.4592 - val_accuracy: 0.4334\n",
            "Epoch 52/80\n",
            "557/557 [==============================] - 31s 55ms/step - loss: 1.4830 - accuracy: 0.4247 - val_loss: 1.4608 - val_accuracy: 0.4288\n",
            "Epoch 53/80\n",
            "557/557 [==============================] - 31s 55ms/step - loss: 1.4816 - accuracy: 0.4253 - val_loss: 1.4630 - val_accuracy: 0.4302\n",
            "Epoch 54/80\n",
            "557/557 [==============================] - 31s 55ms/step - loss: 1.4818 - accuracy: 0.4257 - val_loss: 1.4584 - val_accuracy: 0.4296\n",
            "Epoch 55/80\n",
            "557/557 [==============================] - 31s 55ms/step - loss: 1.4798 - accuracy: 0.4263 - val_loss: 1.4654 - val_accuracy: 0.4243\n",
            "Epoch 56/80\n",
            "557/557 [==============================] - 31s 55ms/step - loss: 1.4789 - accuracy: 0.4254 - val_loss: 1.4582 - val_accuracy: 0.4327\n",
            "Epoch 57/80\n",
            "557/557 [==============================] - 31s 55ms/step - loss: 1.4783 - accuracy: 0.4264 - val_loss: 1.4599 - val_accuracy: 0.4332\n",
            "Epoch 58/80\n",
            "557/557 [==============================] - 31s 55ms/step - loss: 1.4773 - accuracy: 0.4274 - val_loss: 1.4612 - val_accuracy: 0.4317\n",
            "Epoch 59/80\n",
            "557/557 [==============================] - 31s 56ms/step - loss: 1.4770 - accuracy: 0.4260 - val_loss: 1.4584 - val_accuracy: 0.4349\n",
            "Epoch 60/80\n",
            "557/557 [==============================] - 31s 55ms/step - loss: 1.4754 - accuracy: 0.4282 - val_loss: 1.4600 - val_accuracy: 0.4331\n",
            "Epoch 61/80\n",
            "557/557 [==============================] - 31s 55ms/step - loss: 1.4745 - accuracy: 0.4283 - val_loss: 1.4581 - val_accuracy: 0.4347\n",
            "Epoch 62/80\n",
            "557/557 [==============================] - 31s 55ms/step - loss: 1.4740 - accuracy: 0.4287 - val_loss: 1.4584 - val_accuracy: 0.4303\n",
            "Epoch 63/80\n",
            "557/557 [==============================] - 31s 55ms/step - loss: 1.4751 - accuracy: 0.4284 - val_loss: 1.4590 - val_accuracy: 0.4332\n",
            "Epoch 64/80\n",
            "557/557 [==============================] - 31s 55ms/step - loss: 1.4720 - accuracy: 0.4301 - val_loss: 1.4589 - val_accuracy: 0.4343\n",
            "Epoch 65/80\n",
            "557/557 [==============================] - 31s 55ms/step - loss: 1.4704 - accuracy: 0.4310 - val_loss: 1.4566 - val_accuracy: 0.4334\n",
            "Epoch 66/80\n",
            "557/557 [==============================] - 31s 56ms/step - loss: 1.4701 - accuracy: 0.4305 - val_loss: 1.4646 - val_accuracy: 0.4314\n",
            "Epoch 67/80\n",
            "557/557 [==============================] - 31s 55ms/step - loss: 1.4699 - accuracy: 0.4294 - val_loss: 1.4598 - val_accuracy: 0.4274\n",
            "Epoch 68/80\n",
            "557/557 [==============================] - 31s 55ms/step - loss: 1.4676 - accuracy: 0.4317 - val_loss: 1.4601 - val_accuracy: 0.4302\n",
            "Epoch 69/80\n",
            "557/557 [==============================] - 31s 56ms/step - loss: 1.4691 - accuracy: 0.4307 - val_loss: 1.4577 - val_accuracy: 0.4336\n",
            "Epoch 70/80\n",
            "557/557 [==============================] - 31s 55ms/step - loss: 1.4692 - accuracy: 0.4312 - val_loss: 1.4614 - val_accuracy: 0.4305\n",
            "Epoch 71/80\n",
            "557/557 [==============================] - 31s 55ms/step - loss: 1.4655 - accuracy: 0.4334 - val_loss: 1.4619 - val_accuracy: 0.4309\n",
            "Epoch 72/80\n",
            "557/557 [==============================] - 31s 56ms/step - loss: 1.4643 - accuracy: 0.4330 - val_loss: 1.4600 - val_accuracy: 0.4326\n",
            "Epoch 73/80\n",
            "557/557 [==============================] - 31s 55ms/step - loss: 1.4654 - accuracy: 0.4318 - val_loss: 1.4618 - val_accuracy: 0.4326\n",
            "Epoch 74/80\n",
            "557/557 [==============================] - 31s 56ms/step - loss: 1.4667 - accuracy: 0.4313 - val_loss: 1.4570 - val_accuracy: 0.4336\n",
            "Epoch 75/80\n",
            "557/557 [==============================] - 31s 56ms/step - loss: 1.4671 - accuracy: 0.4313 - val_loss: 1.4590 - val_accuracy: 0.4340\n",
            "Epoch 76/80\n",
            "557/557 [==============================] - 31s 55ms/step - loss: 1.4634 - accuracy: 0.4329 - val_loss: 1.4574 - val_accuracy: 0.4291\n",
            "Epoch 77/80\n",
            "557/557 [==============================] - 31s 56ms/step - loss: 1.4623 - accuracy: 0.4332 - val_loss: 1.4560 - val_accuracy: 0.4336\n",
            "Epoch 78/80\n",
            "557/557 [==============================] - 31s 56ms/step - loss: 1.4615 - accuracy: 0.4336 - val_loss: 1.4550 - val_accuracy: 0.4355\n",
            "Epoch 79/80\n",
            "557/557 [==============================] - 31s 56ms/step - loss: 1.4599 - accuracy: 0.4339 - val_loss: 1.4553 - val_accuracy: 0.4307\n",
            "Epoch 80/80\n",
            "557/557 [==============================] - 31s 56ms/step - loss: 1.4642 - accuracy: 0.4333 - val_loss: 1.4522 - val_accuracy: 0.4356\n"
          ],
          "name": "stdout"
        }
      ]
    },
    {
      "cell_type": "code",
      "metadata": {
        "id": "7kDmW-VZIjHY"
      },
      "source": [
        "model.save(\"cnn.h5\")"
      ],
      "execution_count": null,
      "outputs": []
    },
    {
      "cell_type": "code",
      "metadata": {
        "id": "NCe_8hvuRTQI"
      },
      "source": [
        "model_batch = modelCNN(True)\r\n",
        "history_batch = model_batch.fit(X_train, y_train, epochs = 80, batch_size = 1024, validation_split = 0.05, callbacks=[EarlyStopping(patience = 15, restore_best_weights = True)])"
      ],
      "execution_count": null,
      "outputs": []
    },
    {
      "cell_type": "code",
      "metadata": {
        "id": "xCboPj6HmePv"
      },
      "source": [
        "model_batch.save(\"cnn_batch.h5\")"
      ],
      "execution_count": null,
      "outputs": []
    },
    {
      "cell_type": "markdown",
      "metadata": {
        "id": "U1HLIWliWXFI"
      },
      "source": [
        "## Evaluation"
      ]
    },
    {
      "cell_type": "code",
      "metadata": {
        "id": "GVeWbsoh8d8T"
      },
      "source": [
        "y_pred_cnn = model.predict(X_test)"
      ],
      "execution_count": 83,
      "outputs": []
    },
    {
      "cell_type": "code",
      "metadata": {
        "id": "XXFhiqicJaIv"
      },
      "source": [
        "y_pred_cnn_batch = model_batch.predict(X_test)"
      ],
      "execution_count": 86,
      "outputs": []
    },
    {
      "cell_type": "code",
      "metadata": {
        "id": "oTz4-uiUg-AK"
      },
      "source": [
        "y_true, y_pred = np.argmax(y_test, axis = 1), np.argmax(y_pred_cnn, axis = 1)\r\n",
        "cm = confusion_matrix(y_true, y_pred)\r\n",
        "cm = cm.astype('float') / cm.sum(axis=1)[:, np.newaxis]\r\n",
        "\r\n",
        "fig, ax = plt.subplots(figsize=(10, 8))\r\n",
        "sns.heatmap(cm, annot=True, )"
      ],
      "execution_count": null,
      "outputs": []
    },
    {
      "cell_type": "code",
      "metadata": {
        "id": "OEMnbBmTi53o"
      },
      "source": [
        "y_true, y_pred = np.argmax(y_test, axis = 1), np.argmax(y_pred_cnn_batch, axis = 1)\r\n",
        "cm_batch = confusion_matrix(y_true, y_pred)\r\n",
        "cm_batch = cm.astype('float') / cm.sum(axis=1)[:, np.newaxis]\r\n",
        "\r\n",
        "fig, ax = plt.subplots(figsize=(10, 8))\r\n",
        "sns.heatmap(cm_batch, annot=True, )"
      ],
      "execution_count": null,
      "outputs": []
    },
    {
      "cell_type": "code",
      "metadata": {
        "id": "ndyvvhaJk0IU"
      },
      "source": [
        ""
      ],
      "execution_count": null,
      "outputs": []
    }
  ]
}